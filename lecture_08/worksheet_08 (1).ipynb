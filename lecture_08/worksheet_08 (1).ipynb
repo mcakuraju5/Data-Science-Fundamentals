{
 "cells": [
  {
   "attachments": {},
   "cell_type": "markdown",
   "metadata": {},
   "source": [
    "# Worksheet 08\n",
    "\n",
    "Name: Akuraju Mounika Chowdary\n",
    "\n",
    "UID: U70197123 \n",
    "\n",
    "### Topics\n",
    "\n",
    "- Soft Clustering\n",
    "- Clustering Aggregation\n",
    "\n",
    "### Probability Review\n",
    "\n",
    "Read through [the following](https://medium.com/@gallettilance/overview-of-probability-3272b72c82c8)\n",
    "\n",
    "### Soft Clustering\n",
    "\n",
    "We generate 10 data points that come from a normal distribution with mean 5 and variance 1."
   ]
  },
  {
   "cell_type": "code",
   "execution_count": 12,
   "metadata": {},
   "outputs": [
    {
     "name": "stdout",
     "output_type": "stream",
     "text": [
      "[6.163215444850255, 4.822197435284785, 6.024418092659602, 4.618831909147721, 4.6944751656604975, 6.363518825978492, 4.712916536853552, 4.845140022748724, 6.15655298500748, 5.926149007175853]\n"
     ]
    }
   ],
   "source": [
    "import random\n",
    "import numpy as np\n",
    "from sklearn.cluster import KMeans\n",
    "\n",
    "mean = 5\n",
    "stdev = 1\n",
    "\n",
    "s1 = np.random.normal(mean, stdev, 10).tolist()\n",
    "print(s1)"
   ]
  },
  {
   "cell_type": "markdown",
   "metadata": {},
   "source": [
    "a) Generate 10 more data points, this time coming from a normal distribution with mean 8 and variance 1."
   ]
  },
  {
   "cell_type": "code",
   "execution_count": 13,
   "metadata": {},
   "outputs": [
    {
     "name": "stdout",
     "output_type": "stream",
     "text": [
      "[10.60294109711851, 8.157059232458467, 5.671913998633125, 8.940878850860294, 8.754905260348725, 8.349616519859286, 8.04214457838085, 7.047974282169902, 8.51105771647338, 7.6484871758401765]\n"
     ]
    }
   ],
   "source": [
    "s2 = np.random.normal( 8 , 1 , 10 ).tolist()\n",
    "print(s2)"
   ]
  },
  {
   "cell_type": "markdown",
   "metadata": {},
   "source": [
    "b) Flip a fair coin 10 times. If the coin lands on H, then pick the last data point of `c1` and remove it from `c1`, if T then pick the last data point from `c2` and remove it from `c2`. Add these 10 points to a list called `data`."
   ]
  },
  {
   "cell_type": "code",
   "execution_count": 14,
   "metadata": {},
   "outputs": [
    {
     "name": "stdout",
     "output_type": "stream",
     "text": [
      "[5.926149007175853, 7.6484871758401765, 6.15655298500748, 4.845140022748724, 8.51105771647338, 7.047974282169902, 8.04214457838085, 4.712916536853552, 8.349616519859286, 8.754905260348725]\n"
     ]
    }
   ],
   "source": [
    "data = []\n",
    "for i in range(10):\n",
    "    # flip coin\n",
    "    coin_output = random.choice([0, 1])\n",
    "    if coin_output == 0:\n",
    "        p1 = s1.pop()\n",
    "        data.append(p1)\n",
    "    else:\n",
    "        p2 = s2.pop()\n",
    "        data.append(p2)\n",
    "print(data)"
   ]
  },
  {
   "cell_type": "markdown",
   "metadata": {},
   "source": [
    "c) This `data` is a Gaussian Mixture Distribution with 2 mixture components. Over the next few questions we will walk through the GMM algorithm to see if we can uncover the parameters we used to generate this data. First, please list all these parameters of the GMM that created `data` and the values we know they have."
   ]
  },
  {
   "cell_type": "markdown",
   "metadata": {},
   "source": []
  },
  {
   "cell_type": "markdown",
   "metadata": {},
   "source": [
    "d) Let's assume there are two mixture components (note: we could plot the data and make the observation that there are two clusters). The EM algorithm asks us to start with a random `mean_j`, `variance_j`, `P(S_j)` for each component j. One method we could use to find sensible values for these is to apply K means with k=2 here.\n",
    "\n",
    "1. the centroids would be the estimates of the `mean_j`\n",
    "2. the intra-cluster variance could be the estimate of `variance_j`\n",
    "3. the proportion of points in each cluster could be the estimate of `P(S_j)`\n",
    "\n",
    "Go through this process and list the parameter estimates it gives. Are they close or far from the true values?"
   ]
  },
  {
   "cell_type": "code",
   "execution_count": 15,
   "metadata": {},
   "outputs": [
    {
     "name": "stdout",
     "output_type": "stream",
     "text": [
      "[7.6484871758401765, 8.51105771647338, 7.047974282169902, 8.04214457838085, 8.349616519859286, 8.754905260348725]\n",
      "[5.926149007175853, 6.15655298500748, 4.845140022748724, 4.712916536853552]\n",
      "P(S_1) = 0.6,  P(S_2) = 0.4\n",
      "mean_1 = 8.059030922178719,  mean_2 = 5.410189637946402\n",
      "var_1 = 0.3273460254056146,  var_2 = 0.4071857904186381\n"
     ]
    },
    {
     "name": "stderr",
     "output_type": "stream",
     "text": [
      "/opt/homebrew/lib/python3.11/site-packages/sklearn/cluster/_kmeans.py:1416: FutureWarning: The default value of `n_init` will change from 10 to 'auto' in 1.4. Set the value of `n_init` explicitly to suppress the warning\n",
      "  super()._check_params_vs_input(X, default_n_init=10)\n"
     ]
    }
   ],
   "source": [
    "kmeans = KMeans(2, init='k-means++').fit(X=np.array(data).reshape(-1, 1))\n",
    "\n",
    "s1 = [x[0] for x in filter(lambda x: x[1] == 0, zip(data, kmeans.labels_))]\n",
    "print(s1)\n",
    "s2 = [x[0] for x in filter(lambda x: x[1] == 1, zip(data, kmeans.labels_))]\n",
    "print(s2)\n",
    "\n",
    "prob_c = [ len(s1) / (len(s1) + len(s2)) , len(s2) / (len(s1) + len(s2)) ]\n",
    "mean = [ sum(s1)/len(s1) , sum(s2)/len(s2) ]\n",
    "var = [ sum(map(lambda x : (x - mean[0])**2, s1)) / len(s1) , sum(map(lambda x : (x - mean[1])**2, s2)) / len(s2) ]\n",
    "\n",
    "print(\"P(S_1) = \" + str(prob_c[0]) + \",  P(S_2) = \" + str(prob_c[1]))\n",
    "print(\"mean_1 = \" + str(mean[0]) + \",  mean_2 = \" + str(mean[1]))\n",
    "print(\"var_1 = \" + str(var[0]) + \",  var_2 = \" + str(var[1]))"
   ]
  },
  {
   "cell_type": "markdown",
   "metadata": {},
   "source": []
  },
  {
   "cell_type": "markdown",
   "metadata": {},
   "source": [
    "e) For each data point, compute `P(S_j | X_i)`. Comment on which cluster you think each point belongs to based on the estimated probabilities. How does that compare to the truth?"
   ]
  },
  {
   "cell_type": "code",
   "execution_count": 16,
   "metadata": {},
   "outputs": [
    {
     "name": "stdout",
     "output_type": "stream",
     "text": [
      "point =  5.926149007175853\n",
      "probability of observing that point if it came from cluster 0 =  7.364032408172932e-10\n",
      "probability of observing that point if it came from cluster 1 =  0.4389945039344781\n",
      "point =  7.6484871758401765\n",
      "probability of observing that point if it came from cluster 0 =  0.5550719064278085\n",
      "probability of observing that point if it came from cluster 1 =  2.6890164112268785e-07\n",
      "point =  6.15655298500748\n",
      "probability of observing that point if it came from cluster 0 =  5.6396533244843415e-08\n",
      "probability of observing that point if it came from cluster 1 =  0.18261770054457965\n",
      "point =  4.845140022748724\n",
      "probability of observing that point if it came from cluster 0 =  1.4266018687578742e-21\n",
      "probability of observing that point if it came from cluster 1 =  0.37407413093067654\n",
      "point =  8.51105771647338\n",
      "probability of observing that point if it came from cluster 0 =  0.4697188481205414\n",
      "probability of observing that point if it came from cluster 1 =  2.499942350426185e-13\n",
      "point =  7.047974282169902\n",
      "probability of observing that point if it came from cluster 0 =  0.010336497314115206\n",
      "probability of observing that point if it came from cluster 1 =  0.00030066358253587257\n",
      "point =  8.04214457838085\n",
      "probability of observing that point if it came from cluster 0 =  1.2170968785179392\n",
      "probability of observing that point if it came from cluster 1 =  8.291595847103397e-10\n",
      "point =  4.712916536853552\n",
      "probability of observing that point if it came from cluster 0 =  2.49212348885556e-23\n",
      "probability of observing that point if it came from cluster 1 =  0.22613027839831087\n",
      "point =  8.349616519859286\n",
      "probability of observing that point if it came from cluster 0 =  0.8218411653605335\n",
      "probability of observing that point if it came from cluster 1 =  4.732374390023989e-12\n",
      "point =  8.754905260348725\n",
      "probability of observing that point if it came from cluster 0 =  0.1272339352192429\n",
      "probability of observing that point if it came from cluster 1 =  2.184919417220867e-15\n",
      "5.926149007175853\n",
      "Probability of coming from S_1 = 2.516215689596385e-09\n",
      "Probability of coming from S_2 = 0.9999999974837843\n",
      "\n",
      "7.6484871758401765\n",
      "Probability of coming from S_1 = 0.9999996770369735\n",
      "Probability of coming from S_2 = 3.2296302654783205e-07\n",
      "\n",
      "6.15655298500748\n",
      "Probability of coming from S_1 = 4.6323417953349806e-07\n",
      "Probability of coming from S_2 = 0.9999995367658204\n",
      "\n",
      "4.845140022748724\n",
      "Probability of coming from S_1 = 5.720531376529156e-21\n",
      "Probability of coming from S_2 = 1.0\n",
      "\n",
      "8.51105771647338\n",
      "Probability of coming from S_1 = 0.9999999999996453\n",
      "Probability of coming from S_2 = 3.548139999673098e-13\n",
      "\n",
      "7.047974282169902\n",
      "Probability of coming from S_1 = 0.9809771723083681\n",
      "Probability of coming from S_2 = 0.019022827691631883\n",
      "\n",
      "8.04214457838085\n",
      "Probability of coming from S_1 = 0.9999999995458266\n",
      "Probability of coming from S_2 = 4.5417342364366073e-10\n",
      "\n",
      "4.712916536853552\n",
      "Probability of coming from S_1 = 1.6531113213856385e-22\n",
      "Probability of coming from S_2 = 1.0\n",
      "\n",
      "8.349616519859286\n",
      "Probability of coming from S_1 = 0.9999999999961612\n",
      "Probability of coming from S_2 = 3.83883941688398e-12\n",
      "\n",
      "8.754905260348725\n",
      "Probability of coming from S_1 = 0.9999999999999886\n",
      "Probability of coming from S_2 = 1.1448305377837564e-14\n",
      "\n"
     ]
    }
   ],
   "source": [
    "from scipy.stats import norm\n",
    "\n",
    "prob_c0_x = [] # P(S_0 | X_i)\n",
    "prob_c1_x = [] # P(S_1 | X_i)\n",
    "prob_x = [] # P(X_i)\n",
    "\n",
    "k = 2\n",
    "\n",
    "for p in data:\n",
    "    print(\"point = \", p)\n",
    "    pdf_i = []\n",
    "\n",
    "    for j in range(k):\n",
    "        # P(X_i | S_j)\n",
    "        pdf_i.append(norm.pdf(p, mean[j], var[j]))\n",
    "        print(\"probability of observing that point if it came from cluster \" + str(j) + \" = \", pdf_i[j])\n",
    "        # P(S_j) already computed\n",
    "        prob_c[j]\n",
    "\n",
    "    # P(X_i) = P(S_0)P(X_i | S_0) + P(S_1)P(X_i | S_1)\n",
    "    prob_x = prob_c[0] * pdf_i[0] + prob_c[1] * pdf_i[1]\n",
    "\n",
    "    # P(C_j | X_i) = P(X_i | C_j)P(C_j) / P(X_i)\n",
    "    prob_c0_x.append( pdf_i[0] * prob_c[0] / prob_x )\n",
    "    prob_c1_x.append( pdf_i[1] * prob_c[1] / prob_x )\n",
    "\n",
    "probs = zip(data, prob_c0_x, prob_c1_x)\n",
    "\n",
    "for p in probs:\n",
    "    print(p[0])\n",
    "    print(\"Probability of coming from S_1 = \" + str(p[1]))\n",
    "    print(\"Probability of coming from S_2 = \" + str(p[2]))\n",
    "    print()\n"
   ]
  },
  {
   "cell_type": "markdown",
   "metadata": {},
   "source": [
    "f) Having computed `P(S_j | X_i)`, update the estimates of `mean_j`, `var_j`, and `P(S_j)`. How different are these values from the original ones you got from K means? briefly comment."
   ]
  },
  {
   "cell_type": "code",
   "execution_count": 17,
   "metadata": {},
   "outputs": [
    {
     "name": "stdout",
     "output_type": "stream",
     "text": [
      "P(S_1) = 0.5980977314637358,  P(S_2) = 0.4019022685362642\n",
      "mean_1 = 8.06224651741924,  mean_2 = 5.417941689770441\n",
      "var_1 = 0.32512581637312993,  var_2 = 0.4178947966084489\n"
     ]
    }
   ],
   "source": [
    "prob_c = [sum(prob_c0_x)/ len(prob_c0_x), sum(prob_c1_x)/ len(prob_c1_x) ]\n",
    "\n",
    "mean = [sum([x[0] * x[1] for x in zip(prob_c0_x, data)]) / sum(prob_c0_x), \n",
    "        sum([x[0] * x[1] for x in zip(prob_c1_x, data)]) / sum(prob_c1_x) ]\n",
    "\n",
    "var = [sum([x[0] * ((x[1] - mean[0]) ** 2) for x in zip(prob_c0_x, data)]) / sum(prob_c0_x),\n",
    "       sum([x[0] * ((x[1] - mean[1]) ** 2) for x in zip(prob_c1_x, data)]) / sum(prob_c1_x)]\n",
    "\n",
    "print(\"P(S_1) = \" + str(prob_c[0]) + \",  P(S_2) = \" + str(prob_c[1]))\n",
    "print(\"mean_1 = \" + str(mean[0]) + \",  mean_2 = \" + str(mean[1]))\n",
    "print(\"var_1 = \" + str(var[0]) + \",  var_2 = \" + str(var[1]))"
   ]
  },
  {
   "cell_type": "markdown",
   "metadata": {},
   "source": []
  },
  {
   "cell_type": "markdown",
   "metadata": {},
   "source": [
    "g) Update `P(S_j | X_i)`. Comment on any differences or lack thereof you observe."
   ]
  },
  {
   "cell_type": "code",
   "execution_count": 18,
   "metadata": {},
   "outputs": [
    {
     "name": "stdout",
     "output_type": "stream",
     "text": [
      "5.926149007175853\n",
      "Probability of coming from C_1 = 1.6962530854464317e-09\n",
      "Probability of coming from C_2 = 0.999999998303747\n",
      "\n",
      "7.6484871758401765\n",
      "Probability of coming from C_1 = 0.9999992352015531\n",
      "Probability of coming from C_2 = 7.647984469828767e-07\n",
      "\n",
      "6.15655298500748\n",
      "Probability of coming from C_1 = 3.160046524365134e-07\n",
      "Probability of coming from C_2 = 0.9999996839953476\n",
      "\n",
      "4.845140022748724\n",
      "Probability of coming from C_1 = 2.6835322357070447e-21\n",
      "Probability of coming from C_2 = 1.0\n",
      "\n",
      "8.51105771647338\n",
      "Probability of coming from C_1 = 0.9999999999982789\n",
      "Probability of coming from C_2 = 1.7210634922291866e-12\n",
      "\n",
      "7.047974282169902\n",
      "Probability of coming from C_1 = 0.9673837326993834\n",
      "Probability of coming from C_2 = 0.032616267300616626\n",
      "\n",
      "8.04214457838085\n",
      "Probability of coming from C_1 = 0.9999999985665762\n",
      "Probability of coming from C_2 = 1.4334237302211e-09\n",
      "\n",
      "4.712916536853552\n",
      "Probability of coming from C_1 = 7.165167626827546e-23\n",
      "Probability of coming from C_2 = 1.0\n",
      "\n",
      "8.349616519859286\n",
      "Probability of coming from C_1 = 0.999999999984112\n",
      "Probability of coming from C_2 = 1.5888000418223557e-11\n",
      "\n",
      "8.754905260348725\n",
      "Probability of coming from C_1 = 0.999999999999928\n",
      "Probability of coming from C_2 = 7.210091155272843e-14\n",
      "\n"
     ]
    }
   ],
   "source": [
    "prob_c0_x = [] # P(C_0 | X_i)\n",
    "prob_c1_x = [] # P(C_1 | X_i)\n",
    "prob_x = [] # P(X_i)\n",
    "\n",
    "k = 2\n",
    "\n",
    "for p in data:\n",
    "    pdf_i = []\n",
    "\n",
    "    for j in range(k):\n",
    "        # P(X_i | C_j)\n",
    "        pdf_i.append(norm.pdf(p, mean[j], var[j]))\n",
    "        # print(\"probability of observing that point if it came from cluster \" + str(j) + \" = \", pdf_i[j])\n",
    "        # P(C_j) already computed\n",
    "        # prob_c[j]\n",
    "\n",
    "    # P(X_i) = P(C_0)P(X_i | C_0) + P(C_1)P(X_i | C_1)\n",
    "    prob_x = prob_c[0] * pdf_i[0] + prob_c[1] * pdf_i[1]\n",
    "\n",
    "    # P(C_j | X_i) = P(X_i | C_j)P(C_j) / P(X_i)\n",
    "    prob_c0_x.append( pdf_i[0] * prob_c[0] / prob_x )\n",
    "    prob_c1_x.append( pdf_i[1] * prob_c[1] / prob_x )\n",
    "\n",
    "probs = zip(data, prob_c0_x, prob_c1_x)\n",
    "\n",
    "for p in probs:\n",
    "    print(p[0])\n",
    "    print(\"Probability of coming from C_1 = \" + str(p[1]))\n",
    "    print(\"Probability of coming from C_2 = \" + str(p[2]))\n",
    "    print()\n"
   ]
  },
  {
   "cell_type": "markdown",
   "metadata": {},
   "source": []
  },
  {
   "cell_type": "markdown",
   "metadata": {},
   "source": [
    "h) Use `P(S_j | X_i)` to create a hard assignment - label each point as belonging to a specific cluster (0 or 1)"
   ]
  },
  {
   "cell_type": "code",
   "execution_count": 19,
   "metadata": {},
   "outputs": [
    {
     "name": "stdout",
     "output_type": "stream",
     "text": [
      "5.926149007175853\n",
      "belongs to cluster 2\n",
      "\n",
      "7.6484871758401765\n",
      "belongs to cluster 1\n",
      "\n",
      "6.15655298500748\n",
      "belongs to cluster 2\n",
      "\n",
      "4.845140022748724\n",
      "belongs to cluster 2\n",
      "\n",
      "8.51105771647338\n",
      "belongs to cluster 1\n",
      "\n",
      "7.047974282169902\n",
      "belongs to cluster 1\n",
      "\n",
      "8.04214457838085\n",
      "belongs to cluster 1\n",
      "\n",
      "4.712916536853552\n",
      "belongs to cluster 2\n",
      "\n",
      "8.349616519859286\n",
      "belongs to cluster 1\n",
      "\n",
      "8.754905260348725\n",
      "belongs to cluster 1\n",
      "\n"
     ]
    }
   ],
   "source": [
    "probs = zip(data, prob_c0_x, prob_c1_x)\n",
    "\n",
    "for p in probs:\n",
    "    print(p[0])\n",
    "\n",
    "    if p[1] > p[2]:\n",
    "        print(\"belongs to cluster 1\\n\")\n",
    "    elif p[1] < p[2]:\n",
    "        print(\"belongs to cluster 2\\n\")\n",
    "    else:\n",
    "        print(\"Ambiguous\\n\")\n",
    "    \n"
   ]
  }
 ],
 "metadata": {
  "kernelspec": {
   "display_name": "Python 3 (ipykernel)",
   "language": "python",
   "name": "python3"
  },
  "language_info": {
   "codemirror_mode": {
    "name": "ipython",
    "version": 3
   },
   "file_extension": ".py",
   "mimetype": "text/x-python",
   "name": "python",
   "nbconvert_exporter": "python",
   "pygments_lexer": "ipython3",
   "version": "3.11.5"
  },
  "vscode": {
   "interpreter": {
    "hash": "e7370f93d1d0cde622a1f8e1c04877d8463912d04d973331ad4851f04de6915a"
   }
  }
 },
 "nbformat": 4,
 "nbformat_minor": 4
}
